{
  "nbformat": 4,
  "nbformat_minor": 0,
  "metadata": {
    "colab": {
      "provenance": [],
      "authorship_tag": "ABX9TyP3eySqrZrUrr+PKgmkgYOk",
      "include_colab_link": true
    },
    "kernelspec": {
      "name": "python3",
      "display_name": "Python 3"
    },
    "language_info": {
      "name": "python"
    }
  },
  "cells": [
    {
      "cell_type": "markdown",
      "metadata": {
        "id": "view-in-github",
        "colab_type": "text"
      },
      "source": [
        "<a href=\"https://colab.research.google.com/github/TBirtrn53/Thomas_DTSC3020_Fall2025/blob/main/Assignment_2.ipynb\" target=\"_parent\"><img src=\"https://colab.research.google.com/assets/colab-badge.svg\" alt=\"Open In Colab\"/></a>"
      ]
    },
    {
      "cell_type": "code",
      "execution_count": 4,
      "metadata": {
        "colab": {
          "base_uri": "https://localhost:8080/"
        },
        "id": "ZAOw30B1-gs3",
        "outputId": "d67e7f59-afc9-4029-c3b7-addac7ed6fef"
      },
      "outputs": [
        {
          "output_type": "stream",
          "name": "stdout",
          "text": [
            "['apple', 'banana', 'orange']\n",
            "apple\n",
            "banana\n",
            "orange\n"
          ]
        }
      ],
      "source": [
        "fruits = [\"apple\", \"banana\", \"orange\"]\n",
        "print(fruits)\n",
        "print(fruits[0])\n",
        "print(fruits[1])\n",
        "print(fruits[2])"
      ]
    },
    {
      "cell_type": "code",
      "source": [
        "Ninjago = [\"Kai\", \"Cole\", \"Jay\", \"Zane\"]\n",
        "Ninjago[0] = \"Lloyd\"\n",
        "print(Ninjago)"
      ],
      "metadata": {
        "colab": {
          "base_uri": "https://localhost:8080/"
        },
        "id": "wgShSkwR_0qZ",
        "outputId": "e2c65dcc-e0e9-4bbb-bf67-04be4f88c5ea"
      },
      "execution_count": 6,
      "outputs": [
        {
          "output_type": "stream",
          "name": "stdout",
          "text": [
            "['Lloyd', 'Cole', 'Jay', 'Zane']\n"
          ]
        }
      ]
    },
    {
      "cell_type": "code",
      "source": [
        "vehicles = [\"car\", \"bus\", \"bike\", \"plane\", \"unicycle\"]\n",
        "vehicles.append(\"moped\")\n",
        "print(vehicles)"
      ],
      "metadata": {
        "colab": {
          "base_uri": "https://localhost:8080/"
        },
        "id": "PjJotM-4ASCl",
        "outputId": "56b397cb-7abf-42af-df9a-480a9e0a174b"
      },
      "execution_count": 7,
      "outputs": [
        {
          "output_type": "stream",
          "name": "stdout",
          "text": [
            "['car', 'bus', 'bike', 'plane', 'unicycle', 'moped']\n"
          ]
        }
      ]
    },
    {
      "cell_type": "code",
      "source": [
        "food = [\"sushi\", \"pasta\", \"cake\", \"waffles\", \"biscuts\", \"rice\"]\n",
        "food.remove(\"biscuts\")\n",
        "print(food)"
      ],
      "metadata": {
        "colab": {
          "base_uri": "https://localhost:8080/"
        },
        "id": "hJls4-zDA1fk",
        "outputId": "8aa89ea8-08f2-433a-a63f-27d015cb8ba3"
      },
      "execution_count": 8,
      "outputs": [
        {
          "output_type": "stream",
          "name": "stdout",
          "text": [
            "['sushi', 'pasta', 'cake', 'waffles', 'rice']\n"
          ]
        }
      ]
    },
    {
      "cell_type": "code",
      "source": [
        "cities = [\"Round Rock\", \"Bedford\", \"Denton\", \"Houston\"]\n",
        "cities.sort()\n",
        "cities.reverse()\n",
        "print(cities)"
      ],
      "metadata": {
        "colab": {
          "base_uri": "https://localhost:8080/"
        },
        "id": "jY9gNnezB_II",
        "outputId": "e6956997-4e72-406c-efeb-f6f5e264fea4"
      },
      "execution_count": 9,
      "outputs": [
        {
          "output_type": "stream",
          "name": "stdout",
          "text": [
            "['Round Rock', 'Houston', 'Denton', 'Bedford']\n"
          ]
        }
      ]
    },
    {
      "cell_type": "code",
      "source": [
        "animals = [\"guinea pig\", \"turtle\", \"duck\",]\n",
        "for animal in animals:\n",
        "  print(animal)"
      ],
      "metadata": {
        "colab": {
          "base_uri": "https://localhost:8080/"
        },
        "id": "zYA6XTKXHB5A",
        "outputId": "f446ff4b-a184-40c8-c8ed-33bdfd54c52c"
      },
      "execution_count": 12,
      "outputs": [
        {
          "output_type": "stream",
          "name": "stdout",
          "text": [
            "guinea pig\n",
            "turtle\n",
            "duck\n"
          ]
        }
      ]
    },
    {
      "cell_type": "code",
      "source": [
        "numbers = [1, 2, 3, 4, 5]\n",
        "for number in numbers:\n",
        "  print(number * 2)"
      ],
      "metadata": {
        "colab": {
          "base_uri": "https://localhost:8080/"
        },
        "id": "dM5iEGv_HwTf",
        "outputId": "b0aeb8f5-cbbb-447f-ac4a-8b4a19d7f0a7"
      },
      "execution_count": 13,
      "outputs": [
        {
          "output_type": "stream",
          "name": "stdout",
          "text": [
            "2\n",
            "4\n",
            "6\n",
            "8\n",
            "10\n"
          ]
        }
      ]
    },
    {
      "cell_type": "code",
      "source": [
        "Friends = [\"Chandler\", \"Joey\", \"Monica\", \"Phoebe\", \"Rachel\", \"Ross\"]\n",
        "print(Friends[:3])\n",
        "print(Friends[-3:])"
      ],
      "metadata": {
        "colab": {
          "base_uri": "https://localhost:8080/"
        },
        "id": "gyh_Pqo8IW3A",
        "outputId": "e92c1cb2-f5cd-47f6-cea3-0a2f975c522e"
      },
      "execution_count": 15,
      "outputs": [
        {
          "output_type": "stream",
          "name": "stdout",
          "text": [
            "['Chandler', 'Joey', 'Monica']\n",
            "['Phoebe', 'Rachel', 'Ross']\n"
          ]
        }
      ]
    },
    {
      "cell_type": "code",
      "source": [
        "range_list = list(range(1, 11))\n",
        "print(range_list)"
      ],
      "metadata": {
        "colab": {
          "base_uri": "https://localhost:8080/"
        },
        "id": "ikg2TPrDJNIr",
        "outputId": "0e6dfb50-e6f4-4a5c-d2cb-59cd0ae7e527"
      },
      "execution_count": 16,
      "outputs": [
        {
          "output_type": "stream",
          "name": "stdout",
          "text": [
            "[1, 2, 3, 4, 5, 6, 7, 8, 9, 10]\n"
          ]
        }
      ]
    },
    {
      "cell_type": "code",
      "source": [
        "squares = [x ** 2 for x in range(1, 6)]\n",
        "print(squares)"
      ],
      "metadata": {
        "colab": {
          "base_uri": "https://localhost:8080/"
        },
        "id": "QpzHNN_NJjPB",
        "outputId": "96d98dfc-c73e-4046-f362-50a4c3044491"
      },
      "execution_count": 21,
      "outputs": [
        {
          "output_type": "stream",
          "name": "stdout",
          "text": [
            "[1, 4, 9, 16, 25]\n"
          ]
        }
      ]
    }
  ]
}