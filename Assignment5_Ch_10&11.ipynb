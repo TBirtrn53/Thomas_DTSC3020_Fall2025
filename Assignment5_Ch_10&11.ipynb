{
  "cells": [
    {
      "cell_type": "markdown",
      "metadata": {
        "id": "view-in-github",
        "colab_type": "text"
      },
      "source": [
        "<a href=\"https://colab.research.google.com/github/TBirtrn53/Thomas_DTSC3020_Fall2025/blob/main/Assignment5_Ch_10%2611.ipynb\" target=\"_parent\"><img src=\"https://colab.research.google.com/assets/colab-badge.svg\" alt=\"Open In Colab\"/></a>"
      ]
    },
    {
      "cell_type": "markdown",
      "id": "9903d230",
      "metadata": {
        "id": "9903d230"
      },
      "source": [
        "# Assignment5: CRM Cleanup @ **DalaShop**\n",
        "*Files (Ch.10), Exceptions (Ch.10), Unit Tests (Ch.11), and Regular Expressions*  \n",
        ".....\n",
        "\n",
        "**Total: 3 points**  (Two questions, 1.5 pts each)  \n",
        "\n",
        "> This assignment is scenario-based and aligned with Python Crash Course Ch.10 (files & exceptions), Ch.11 (unit testing with `unittest`), and Regular Expressions."
      ]
    },
    {
      "cell_type": "markdown",
      "id": "d6487401",
      "metadata": {
        "id": "d6487401"
      },
      "source": [
        "## Scenario\n",
        "You are a data intern at an online retailer called **DalaShop**.  \n",
        "Sales exported a **raw contacts** file from the CRM. It contains customer names, emails, and phone numbers, but the formatting is messy and some emails are invalid.  \n",
        "Your tasks:\n",
        "\n",
        "1. **Clean** the contacts (Files + Exceptions + Regex).  \n",
        "2. **Write unit tests** to make sure your helper functions work correctly and keep working in the future."
      ]
    },
    {
      "cell_type": "markdown",
      "id": "0bd1712f",
      "metadata": {
        "id": "0bd1712f"
      },
      "source": [
        "## Data file (given by the company): `contacts_raw.txt`\n",
        "Use this exact sample data (you may extend it for your own testing, but do **not** change it when submitting).  \n",
        "Run the next cell once to create the file beside your notebook."
      ]
    },
    {
      "cell_type": "code",
      "execution_count": 1,
      "id": "c395a1a8",
      "metadata": {
        "id": "c395a1a8",
        "colab": {
          "base_uri": "https://localhost:8080/"
        },
        "outputId": "c0ab8127-6478-4bd0-ba98-6459bd8d4ee3"
      },
      "outputs": [
        {
          "output_type": "stream",
          "name": "stdout",
          "text": [
            "Wrote contacts_raw.txt with sample DalaShop data.\n"
          ]
        }
      ],
      "source": [
        "# Create the provided company dataset file\n",
        "with open(\"contacts_raw.txt\", \"w\", encoding=\"utf-8\") as f:\n",
        "    f.write('Alice Johnson <alice@example.com> , +1 (469) 555-1234\\nBob Roberts <bob[at]example.com> , 972-555-777\\nSara M. , sara@mail.co , 214 555 8888\\n\"Mehdi A.\" <mehdi.ay@example.org> , (469)555-9999\\nDelaram <delaram@example.io>, +1-972-777-2121\\nNima <NIMA@example.io> , 972.777.2121\\nduplicate <Alice@Example.com> , 469 555 1234')\n",
        "print(\"Wrote contacts_raw.txt with sample DalaShop data.\")"
      ]
    },
    {
      "cell_type": "markdown",
      "id": "1b535f73",
      "metadata": {
        "id": "1b535f73"
      },
      "source": [
        "## Q1 (1.5 pts) — CRM cleanup with Files, Exceptions, and Regex\n",
        "Implement `q1_crm_cleanup.py` to:\n",
        "\n",
        "1. **Read** `contacts_raw.txt` using `pathlib` and `with`. If the file is missing, **handle** it gracefully with `try/except FileNotFoundError` (print a friendly message; do not crash).\n",
        "2. **Validate emails** with a simple regex (`r\"[A-Za-z0-9._%+-]+@[A-Za-z0-9.-]+\\.[A-Za-z]{2,}\"`).  \n",
        "   - Trim whitespace with `strip()` before checking.  \n",
        "   - Use **full** matching (not partial).\n",
        "3. **Normalize phone numbers:** remove all non-digits (e.g., with `re.sub(r\"\\D\", \"\", raw)`).  \n",
        "   - If the result has **≥ 10 digits**, keep the **last 10 digits**.  \n",
        "   - Otherwise, return an **empty string** (`\"\"`).\n",
        "4. **Filter rows:** keep **only** rows with a valid email.\n",
        "5. **Deduplicate:** remove duplicates by **email** using **case-insensitive** comparison (e.g., `email.casefold()`). **Keep the first occurrence** and drop later duplicates.\n",
        "6. **Output CSV:** write to `contacts_clean.csv` with **columns exactly** `name,email,phone` (UTF-8).  \n",
        "7. **Preserve input order:** the order of rows in `contacts_clean.csv` must match the **first appearance** order from the input file. **Do not sort** the rows.\n",
        "\n",
        "**Grading rubric (1.5 pts):**\n",
        "- (0.4) File read/write via `pathlib` + graceful `FileNotFoundError` handling  \n",
        "- (0.5) Correct email regex validation + filtering  \n",
        "- (0.4) Phone normalization + case-insensitive de-dup (keep first)  \n",
        "- (0.2) Clean code, clear names, minimal docstrings/comments"
      ]
    },
    {
      "cell_type": "code",
      "source": [
        "%%writefile q1_crm_cleanup.py\n",
        "\n",
        "from __future__ import annotations\n",
        "\n",
        "from pathlib import Path\n",
        "import csv\n",
        "import re\n",
        "from typing import Iterable, List, Dict, Tuple\n",
        "\n",
        "EMAIL_RE = re.compile(r\"[A-Za-z0-9._%+-]+@[A-Za-z0-9.-]+\\.[A-Za-z]{2,}$\")\n",
        "\n",
        "def is_valid_email(raw: str) -> bool:\n",
        "    if raw is None:\n",
        "        return False\n",
        "    return bool(EMAIL_RE.fullmatch(raw.strip()))\n",
        "\n",
        "def normalize_phone(raw: str) -> str:\n",
        "    if raw is None:\n",
        "        return \"\"\n",
        "    digits = re.sub(r\"\\D\", \"\", raw)\n",
        "    if len(digits) >= 10:\n",
        "        return digits[-10:]\n",
        "    return \"\"\n",
        "\n",
        "def _extract_name_email_phone(line: str) -> Tuple[str, str, str]:\n",
        "    s = line.strip()\n",
        "\n",
        "    # Angle-bracket style\n",
        "    m = re.search(r\"^(?P<name>.+?)\\s*<(?P<email>[^>]+)>\\s*,\\s*(?P<phone>.*)$\", s)\n",
        "    if m:\n",
        "        return m.group(\"name\").strip(), m.group(\"email\").strip(), m.group(\"phone\").strip()\n",
        "\n",
        "    # Comma-separated fields\n",
        "    parts = [p.strip() for p in re.split(r\"\\s*,\\s*\", s)]\n",
        "    if len(parts) >= 3:\n",
        "        name, email, phone = parts[0], parts[1], parts[2]\n",
        "        return name, email, phone\n",
        "    if len(parts) == 2:\n",
        "        name, email = parts\n",
        "        return name, email, \"\"\n",
        "\n",
        "    # Fallback: find any email in the string\n",
        "    m2 = re.search(r\"[A-Za-z0-9._%+-]+@[A-Za-z0-9.-]+\\.[A-Za-z]{2,}\", s)\n",
        "    email = m2.group(0).strip() if m2 else \"\"\n",
        "    if email:\n",
        "        before, _, after = s.partition(email)\n",
        "        name = before.replace(\"<\", \"\").replace(\">\", \"\").replace(\",\", \" \").strip()\n",
        "        phone = after.replace(\",\", \" \").strip()\n",
        "        return name, email, phone\n",
        "\n",
        "    # Nothing recognized; treat as name only\n",
        "    return s, \"\", \"\"\n",
        "\n",
        "def parse_contacts_text(text: str) -> List[Dict[str, str]]:\n",
        "    rows = []\n",
        "    for line in text.splitlines():\n",
        "        if not line.strip():\n",
        "            continue\n",
        "        name, email, phone_raw = _extract_name_email_phone(line)\n",
        "        rows.append({\"name\": name.strip(), \"email\": email.strip(), \"phone\": phone_raw.strip()})\n",
        "    return rows\n",
        "\n",
        "def clean_contacts(rows: Iterable[Dict[str, str]]) -> List[Dict[str, str]]:\n",
        "    seen = set()\n",
        "    cleaned: List[Dict[str, str]] = []\n",
        "    for r in rows:\n",
        "        name = (r.get(\"name\") or \"\").strip()\n",
        "        email = (r.get(\"email\") or \"\").strip()\n",
        "        phone_raw = (r.get(\"phone\") or \"\").strip()\n",
        "\n",
        "        if not is_valid_email(email):\n",
        "            continue\n",
        "\n",
        "        key = email.casefold()\n",
        "        if key in seen:\n",
        "            continue\n",
        "        seen.add(key)\n",
        "\n",
        "        phone = normalize_phone(phone_raw)\n",
        "        cleaned.append({\"name\": name, \"email\": email, \"phone\": phone})\n",
        "    return cleaned\n",
        "\n",
        "def read_contacts_file(path: Path) -> List[Dict[str, str]]:\n",
        "    try:\n",
        "        text = path.read_text(encoding=\"utf-8\")\n",
        "    except FileNotFoundError:\n",
        "        print(f\"contacts file not found: {path}\")\n",
        "        return []\n",
        "    return parse_contacts_text(text)\n",
        "\n",
        "def write_contacts_csv(rows: Iterable[Dict[str, str]], path: Path) -> None:\n",
        "    with path.open(\"w\", encoding=\"utf-8\", newline=\"\") as f:\n",
        "        writer = csv.DictWriter(f, fieldnames=[\"name\", \"email\", \"phone\"])\n",
        "        writer.writeheader()\n",
        "        for r in rows:\n",
        "            writer.writerow({\"name\": r[\"name\"], \"email\": r[\"email\"], \"phone\": r[\"phone\"]})\n",
        "\n",
        "def main() -> None:\n",
        "    raw_path = Path(\"contacts_raw.txt\")\n",
        "    out_path = Path(\"contacts_clean.csv\")\n",
        "    rows = read_contacts_file(raw_path)\n",
        "    if not rows:\n",
        "        return\n",
        "    cleaned = clean_contacts(rows)\n",
        "    write_contacts_csv(cleaned, out_path)\n",
        "    print(f\"Wrote {out_path} with {len(cleaned)} rows.\")\n",
        "\n",
        "if __name__ == \"__main__\":\n",
        "    main()\n"
      ],
      "metadata": {
        "id": "gO9xaHmKNlax",
        "colab": {
          "base_uri": "https://localhost:8080/"
        },
        "outputId": "6d54fcf3-6fff-4570-d996-355cfd8e7b0c"
      },
      "id": "gO9xaHmKNlax",
      "execution_count": 12,
      "outputs": [
        {
          "output_type": "stream",
          "name": "stdout",
          "text": [
            "Overwriting q1_crm_cleanup.py\n"
          ]
        }
      ]
    },
    {
      "cell_type": "markdown",
      "id": "258c5b04",
      "metadata": {
        "id": "258c5b04"
      },
      "source": [
        "from q1_crm_cleanup import (\n",
        "    is_valid_email,\n",
        "    normalize_phone,\n",
        "    parse_contacts_text,\n",
        "    clean_contacts,\n",
        ")\n",
        "## Q2 (1.5 pts) — Unit testing with `unittest`\n",
        "Create tests in `test_crm_cleanup.py` that cover at least:\n",
        "\n",
        "1. **Email validation**: valid/invalid variations.  \n",
        "2. **Phone normalization**: parentheses, dashes, spaces, country code; too-short cases.  \n",
        "3. **Parsing**: from a small multi-line string (not from a file), assert the exact structured rows (name/email/phone).  \n",
        "4. **De-duplication**: demonstrate that a case-variant duplicate email is dropped (first occurrence kept).\n",
        "\n",
        "\n"
      ]
    },
    {
      "cell_type": "code",
      "source": [
        "%%writefile test_crm_cleanup.py\n",
        "\n",
        "\n",
        "import unittest\n",
        "from q1_crm_cleanup import (\n",
        "    is_valid_email,\n",
        "    normalize_phone,\n",
        "    parse_contacts_text,\n",
        "    clean_contacts,\n",
        ")\n",
        "\n",
        "class TestEmailValidation(unittest.TestCase):\n",
        "    def test_valid_emails(self):\n",
        "        self.assertTrue(is_valid_email(\"alice@example.com\"))\n",
        "        self.assertTrue(is_valid_email(\"A.B-c+d_e@sub.example.co\"))\n",
        "        self.assertTrue(is_valid_email(\"  mehdi.ay@example.org  \"))\n",
        "\n",
        "    def test_invalid_emails(self):\n",
        "        self.assertFalse(is_valid_email(\"bob[at]example.com\"))\n",
        "        self.assertFalse(is_valid_email(\"alice@example\"))\n",
        "        self.assertFalse(is_valid_email(\"alice@.com\"))\n",
        "        self.assertFalse(is_valid_email(\"not-an-email\"))\n",
        "        self.assertFalse(is_valid_email(\"\"))\n",
        "\n",
        "class TestPhoneNormalization(unittest.TestCase):\n",
        "    def test_basic_forms(self):\n",
        "        self.assertEqual(normalize_phone(\"(469) 555-1234\"), \"4695551234\")\n",
        "        self.assertEqual(normalize_phone(\"972.555.7777\"), \"9725557777\")\n",
        "        self.assertEqual(normalize_phone(\"+1 (214) 555 8888\"), \"2145558888\")\n",
        "        self.assertEqual(normalize_phone(\"  +1-972-777-2121  \"), \"9727772121\")\n",
        "\n",
        "    def test_too_short(self):\n",
        "        self.assertEqual(normalize_phone(\"972-555-777\"), \"\")  # 9 digits\n",
        "        self.assertEqual(normalize_phone(\"abc\"), \"\")\n",
        "        self.assertEqual(normalize_phone(\"\"), \"\")\n",
        "\n",
        "class TestParsingAndDedup(unittest.TestCase):\n",
        "    def test_parse_and_clean(self):\n",
        "        raw = (\n",
        "            'Alice Johnson <alice@example.com> , +1 (469) 555-1234\\n'\n",
        "            'Bob Roberts <bob[at]example.com> , 972-555-777\\n'\n",
        "            'Sara M. , sara@mail.co , 214 555 8888\\n'\n",
        "            '\"Mehdi A.\" <mehdi.ay@example.org> , (469)555-9999\\n'\n",
        "            'Delaram <delaram@example.io>, +1-972-777-2121\\n'\n",
        "            'Nima <NIMA@example.io> , 972.777.2121\\n'\n",
        "            'duplicate <Alice@Example.com> , 469 555 1234\\n'\n",
        "        )\n",
        "        rows = parse_contacts_text(raw)\n",
        "        cleaned = clean_contacts(rows)\n",
        "\n",
        "        expected = [\n",
        "            {\"name\": \"Alice Johnson\", \"email\": \"alice@example.com\", \"phone\": \"4695551234\"},\n",
        "            {\"name\": \"Sara M.\", \"email\": \"sara@mail.co\", \"phone\": \"2145558888\"},\n",
        "            {\"name\": '\"Mehdi A.\"', \"email\": \"mehdi.ay@example.org\", \"phone\": \"4695559999\"},\n",
        "            {\"name\": \"Delaram\", \"email\": \"delaram@example.io\", \"phone\": \"9727772121\"},\n",
        "            {\"name\": \"Nima\", \"email\": \"NIMA@example.io\", \"phone\": \"9727772121\"},\n",
        "        ]\n",
        "        self.assertEqual(cleaned, expected)\n",
        "\n",
        "    def test_dedup_case_insensitive(self):\n",
        "        raw = (\n",
        "            \"A <x@example.com> , 111-111-1111\\n\"\n",
        "            \"B <X@EXAMPLE.com> , 222-222-2222\\n\"\n",
        "        )\n",
        "        rows = parse_contacts_text(raw)\n",
        "        cleaned = clean_contacts(rows)\n",
        "        self.assertEqual(\n",
        "            cleaned,\n",
        "            [{\"name\": \"A\", \"email\": \"x@example.com\", \"phone\": \"1111111111\"}]\n",
        "        )\n",
        "\n",
        "if __name__ == \"__main__\":\n",
        "    unittest.main(verbosity=2)\n"
      ],
      "metadata": {
        "id": "_M18cJw2NqZm",
        "colab": {
          "base_uri": "https://localhost:8080/"
        },
        "outputId": "4102d62e-6dd5-4276-c88e-8502bdbc6c50"
      },
      "id": "_M18cJw2NqZm",
      "execution_count": 14,
      "outputs": [
        {
          "output_type": "stream",
          "name": "stdout",
          "text": [
            "Overwriting test_crm_cleanup.py\n"
          ]
        }
      ]
    },
    {
      "cell_type": "markdown",
      "id": "f38af38b",
      "metadata": {
        "id": "f38af38b"
      },
      "source": [
        "## Grading rubric (total 3 pts)\n",
        "- **Q1 (1.5 pts)**  \n",
        "  - (0.4) File I/O with `pathlib` + graceful `FileNotFoundError` handling  \n",
        "  - (0.5) Email validation (regex + strip + full match) and filtering  \n",
        "  - (0.4) Phone normalization and **case-insensitive** de-duplication (keep first)  \n",
        "  - (0.2) Code clarity (names, minimal docstrings/comments)\n",
        "- **Q2 (1.5 pts)**  \n",
        "  - (0.6) Meaningful coverage for email/phone functions (valid & invalid)  \n",
        "  - (0.6) Parsing & de-dup tests that assert exact expected rows  \n",
        "  - (0.3) Standard `unittest` structure and readable test names\n"
      ]
    }
  ],
  "metadata": {
    "colab": {
      "provenance": [],
      "include_colab_link": true
    },
    "language_info": {
      "name": "python"
    },
    "kernelspec": {
      "name": "python3",
      "display_name": "Python 3"
    }
  },
  "nbformat": 4,
  "nbformat_minor": 5
}