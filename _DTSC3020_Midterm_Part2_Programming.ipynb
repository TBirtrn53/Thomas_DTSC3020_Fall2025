{
  "cells": [
    {
      "cell_type": "markdown",
      "metadata": {
        "id": "view-in-github",
        "colab_type": "text"
      },
      "source": [
        "<a href=\"https://colab.research.google.com/github/TBirtrn53/Thomas_DTSC3020_Fall2025/blob/main/_DTSC3020_Midterm_Part2_Programming.ipynb\" target=\"_parent\"><img src=\"https://colab.research.google.com/assets/colab-badge.svg\" alt=\"Open In Colab\"/></a>"
      ]
    },
    {
      "cell_type": "markdown",
      "id": "8e58db4f",
      "metadata": {
        "id": "8e58db4f"
      },
      "source": [
        "# DTSC 3020 — Midterm Exam (Part 2: Programming)\n",
        "University of North Texas\n",
        "\n",
        "**Course:** Introduction to Computation with Python (DTSC 3020)  \n",
        "**Exam:** Midterm — Programming (Ch. 1–8 concepts)\n",
        "\n"
      ]
    },
    {
      "cell_type": "markdown",
      "id": "ed86aaec",
      "metadata": {
        "id": "ed86aaec"
      },
      "source": [
        "---\n",
        "### Instructions\n",
        "- Write clean, readable Python code for each question.\n",
        "- Use only standard Python; no external libraries.\n",
        "- Where required, write a function and return the result.\n",
        "- After each solution cell, there is a **Part 2 — Test Scenario**. Follow the prompt to run your code.\n",
        "\n",
        "---"
      ]
    },
    {
      "cell_type": "markdown",
      "id": "227c4435",
      "metadata": {
        "id": "227c4435"
      },
      "source": [
        "## Question 1 — Create Member ID\n",
        "Write a Python function `create_member_id(full_name)` that creates a Library Member ID from a person’s full name.\n",
        "\n",
        "**Rules**\n",
        "- Normalize the name: remove extra spaces, convert to lowercase, and split by spaces.\n",
        "- Use the last word as the last name (e.g., `\"John Ronald Reuel Tolkien\"` → last name `tolkien`).\n",
        "- Use the first letters of all earlier words as initials (e.g., `jrr` for the example above).\n",
        "- Construct the member ID in this exact format: `lastname_initials` (underscore between them; no spaces).\n",
        "\n",
        "**Examples**\n",
        "- `\"Sara Amini\"` → `amini_sa`\n",
        "- `\"Mary Jane Watson\"` → `watson_mj`\n",
        "- `\"LINA\"` (single word) → use the word for both parts: `lina_l`\n",
        "\n",
        "Part 2 — Test Scenario (run using your function)\n",
        "names = [\"Sara Amini\", \"Ali\", \"Mary Jane\", \"John Smith\", \"LINA\", \"madonna\", \"sara amini\"]\n",
        "\n",
        "\n",
        "\n"
      ]
    },
    {
      "cell_type": "code",
      "execution_count": 60,
      "id": "51411a35",
      "metadata": {
        "id": "51411a35"
      },
      "outputs": [],
      "source": [
        "def create_member_id(full_name):\n",
        "    name_bits = full_name.strip().lower().split()\n",
        "\n",
        "    if len(name_bits) == 1:\n",
        "        last_name = name_bits[0]\n",
        "        initials = name_bits[0][0]\n",
        "\n",
        "    elif len(name_bits) == 2:\n",
        "        last_name = name_bits[-1]\n",
        "        initials = name_bits[0][0] + name_bits[-1][0]\n",
        "\n",
        "    else:\n",
        "        last_name = name_bits[-1]\n",
        "        initials = name_bits[0][0] + name_bits[1][0]\n",
        "\n",
        "    return f\"{last_name}_{initials}\""
      ]
    },
    {
      "cell_type": "code",
      "execution_count": 59,
      "id": "584ae4f0",
      "metadata": {
        "id": "584ae4f0",
        "colab": {
          "base_uri": "https://localhost:8080/"
        },
        "outputId": "3789358c-6522-444f-d921-6aa3cafba58e"
      },
      "outputs": [
        {
          "output_type": "stream",
          "name": "stdout",
          "text": [
            "amini_sa\n",
            "ali_a\n",
            "watson_mj\n",
            "tolkien_jr\n",
            "lina_l\n",
            "madonna_m\n",
            "amini_sa\n"
          ]
        }
      ],
      "source": [
        "def create_member_id(full_name):\n",
        "    name_bits = full_name.strip().lower().split()\n",
        "\n",
        "    if len(name_bits) == 1:\n",
        "        last_name = name_bits[0]\n",
        "        initials = name_bits[0][0]\n",
        "\n",
        "    elif len(name_bits) == 2:\n",
        "        last_name = name_bits[-1]\n",
        "        initials = name_bits[0][0] + name_bits[-1][0]\n",
        "\n",
        "    else:\n",
        "        last_name = name_bits[-1]\n",
        "        initials = name_bits[0][0] + name_bits[1][0]\n",
        "\n",
        "    return f\"{last_name}_{initials}\"\n",
        "\n",
        "\n",
        "names = [\"Sara Amini\", \"Ali\", \"Mary Jane Watson\", \"John Ronald Reuel Tolkien\", \"LINA\", \"madonna\", \"sara amini\"]\n",
        "for name in names:\n",
        "    print(create_member_id(name))\n"
      ]
    },
    {
      "cell_type": "markdown",
      "id": "c1727720",
      "metadata": {
        "id": "c1727720"
      },
      "source": [
        "## Question 2 — Movie Ticket Booth\n",
        "\n",
        "Write a Python program that simulates a movie ticket booth using this price list:\n",
        "\n",
        "```python\n",
        "prices = {\"adult\": 12.5, \"child\": 8, \"senior\": 9.5, \"student\": 10}\n",
        "```\n",
        "\n",
        "**Program Requirements**\n",
        "- Repeatedly ask the user to enter a ticket type or type `done` to finish.\n",
        "- Valid inputs: `adult`, `child`, `senior`, `student`, or `done`.\n",
        "- If the ticket type exists, add its price to a running total and print a confirmation message.\n",
        "- If it doesn’t exist, print `\"Invalid ticket type\"`.\n",
        "- When the user types `done`, stop and show:\n",
        "  - **Subtotal** (sum of valid ticket prices)\n",
        "  - **Tax** = 8% of subtotal\n",
        "  - **Final total** = subtotal + tax\n"
      ]
    },
    {
      "cell_type": "code",
      "execution_count": 6,
      "id": "4b859e17",
      "metadata": {
        "id": "4b859e17",
        "colab": {
          "base_uri": "https://localhost:8080/"
        },
        "outputId": "b292033f-8e25-4691-a7d4-5d32639658bc"
      },
      "outputs": [
        {
          "output_type": "stream",
          "name": "stdout",
          "text": [
            "Enter a ticket type or type \"done\" to finish: adult\n",
            "Successfully added. Subtotal: $12.5\n",
            "Enter a ticket type or type \"done\" to finish: child\n",
            "Successfully added. Subtotal: $20.5\n",
            "Enter a ticket type or type \"done\" to finish: student\n",
            "Successfully added. Subtotal: $30.5\n",
            "Enter a ticket type or type \"done\" to finish: done\n",
            "Subtotal: $30.5\n",
            "Tax: $2.44\n",
            "Final total: $32.94\n"
          ]
        }
      ],
      "source": [
        "prices = {\"adult\": 12.5, \"child\": 8, \"senior\": 9.5, \"student\": 10}\n",
        "subtotal = 0\n",
        "while True:\n",
        "    user_input = input('Enter a ticket type or type \"done\" to finish: ')\n",
        "\n",
        "    if user_input == 'done':\n",
        "        break\n",
        "\n",
        "    elif user_input in prices:\n",
        "        subtotal += prices[user_input]\n",
        "        print(f\"Successfully added. Subtotal: ${subtotal}\")\n",
        "\n",
        "    else:\n",
        "        print(\"Invalid ticket type\")\n",
        "\n",
        "tax = subtotal * 0.08\n",
        "final_total = subtotal + tax\n",
        "\n",
        "print(f\"Subtotal: ${subtotal}\\nTax: ${tax:.2f}\\nFinal total: ${final_total:.2f}\")"
      ]
    },
    {
      "cell_type": "markdown",
      "id": "17b39afe",
      "metadata": {
        "id": "17b39afe"
      },
      "source": [
        "**Part 2 — Example Scenario**\n",
        "When prompted, type the following (each on a new line), then press Enter after each entry:\n",
        "\n",
        "```\n",
        "adult\n",
        "child\n",
        "student\n",
        "done\n",
        "```\n",
        "Your program should complete and display the subtotal, tax, and final total based on these entries.\n"
      ]
    },
    {
      "cell_type": "markdown",
      "id": "28c710b6",
      "metadata": {
        "id": "28c710b6"
      },
      "source": [
        "## Question 3 — Student Grade Analyzer\n",
        "\n",
        "Write a Python function `analyze_grades(grades)` that takes a list of numbers (0–100) and returns three values:\n",
        "1. average grade\n",
        "2. highest grade\n",
        "3. lowest grade\n",
        "\n",
        "**Constraints**\n",
        "- Use a function and return statement(s).\n",
        "- Do not use external libraries.\n"
      ]
    },
    {
      "cell_type": "code",
      "execution_count": null,
      "id": "efce3052",
      "metadata": {
        "id": "efce3052"
      },
      "outputs": [],
      "source": [
        "# Write your answer here for Q3\n",
        "def analyze_grades(grades):\n",
        "  average = sum(grades) / len(grades)\n",
        "  highest = max(grades)\n",
        "  lowest = min(grades)\n",
        "  return average, highest, lowest\n"
      ]
    },
    {
      "cell_type": "code",
      "execution_count": 4,
      "id": "ad2b0d29",
      "metadata": {
        "id": "ad2b0d29",
        "colab": {
          "base_uri": "https://localhost:8080/"
        },
        "outputId": "be06771f-1f5d-4ce3-eaf9-403fb3568ffc"
      },
      "outputs": [
        {
          "output_type": "stream",
          "name": "stdout",
          "text": [
            "(85.57142857142857, 93, 72)\n"
          ]
        }
      ],
      "source": [
        "# Part 2 — Test Scenario\n",
        "def analyze_grades(grades):\n",
        "  average = sum(grades) / len(grades)\n",
        "  highest = max(grades)\n",
        "  lowest = min(grades)\n",
        "  return average, highest, lowest\n",
        "\n",
        "sample = [88, 92, 79, 93, 85, 90, 72]\n",
        "\n",
        "print(analyze_grades(sample))\n"
      ]
    },
    {
      "cell_type": "markdown",
      "id": "d378f3c3",
      "metadata": {
        "id": "d378f3c3"
      },
      "source": [
        "## Question 4 — PIN Verification\n",
        "Write a Python program that simulates an ATM PIN verification system.\n",
        "\n",
        "**Requirements**\n",
        "- The correct PIN is `4321`.\n",
        "- The user has at most **3 attempts** to enter the correct PIN.\n",
        "- If the PIN is correct: print `Access granted.` and stop.\n",
        "- If all 3 attempts fail: print `Card blocked.`\n",
        "- After each wrong attempt, also print the counter in the form `Wrong (x/3)`.\n"
      ]
    },
    {
      "cell_type": "code",
      "execution_count": 2,
      "id": "5ea085a2",
      "metadata": {
        "id": "5ea085a2",
        "colab": {
          "base_uri": "https://localhost:8080/"
        },
        "outputId": "4c5a20cb-d89e-4ade-8252-d01866dc4101"
      },
      "outputs": [
        {
          "output_type": "stream",
          "name": "stdout",
          "text": [
            "Enter your pin: 4321\n",
            "Access granted.\n"
          ]
        }
      ],
      "source": [
        "right_pin = 4321\n",
        "counter = 0\n",
        "while counter < 3:\n",
        "  pin = int(input(\"Enter your pin: \"))\n",
        "  if pin == right_pin:\n",
        "    print(\"Access granted.\")\n",
        "    break\n",
        "  else:\n",
        "    counter += 1\n",
        "    print(f\"Wrong ({counter}/3)\")\n",
        "if counter == 3:\n",
        "    print(\"Card blocked.\")\n",
        "\n"
      ]
    },
    {
      "cell_type": "markdown",
      "id": "1c61e343",
      "metadata": {
        "id": "1c61e343"
      },
      "source": [
        "**Part 2 — Test Scenario**\n",
        "Run your program and, when prompted, enter these sequences to verify both behaviors:\n",
        "\n",
        "**Scenario A**\n",
        "```\n",
        "1111\n",
        "2222\n",
        "4321\n",
        "```\n",
        "\n",
        "\n"
      ]
    }
  ],
  "metadata": {
    "kernelspec": {
      "display_name": "Python 3",
      "language": "python",
      "name": "python3"
    },
    "language_info": {
      "name": "python",
      "version": "3.x"
    },
    "colab": {
      "provenance": [],
      "include_colab_link": true
    }
  },
  "nbformat": 4,
  "nbformat_minor": 5
}