{
  "nbformat": 4,
  "nbformat_minor": 0,
  "metadata": {
    "colab": {
      "provenance": [],
      "authorship_tag": "ABX9TyNHOS7Qq+uR1DFWj2479j5Y",
      "include_colab_link": true
    },
    "kernelspec": {
      "name": "python3",
      "display_name": "Python 3"
    },
    "language_info": {
      "name": "python"
    }
  },
  "cells": [
    {
      "cell_type": "markdown",
      "metadata": {
        "id": "view-in-github",
        "colab_type": "text"
      },
      "source": [
        "<a href=\"https://colab.research.google.com/github/TBirtrn53/Thomas_DTSC3020_Fall2025/blob/main/Exercise_1.ipynb\" target=\"_parent\"><img src=\"https://colab.research.google.com/assets/colab-badge.svg\" alt=\"Open In Colab\"/></a>"
      ]
    },
    {
      "cell_type": "code",
      "execution_count": 4,
      "metadata": {
        "colab": {
          "base_uri": "https://localhost:8080/"
        },
        "id": "ZAOw30B1-gs3",
        "outputId": "d67e7f59-afc9-4029-c3b7-addac7ed6fef"
      },
      "outputs": [
        {
          "output_type": "stream",
          "name": "stdout",
          "text": [
            "['apple', 'banana', 'orange']\n",
            "apple\n",
            "banana\n",
            "orange\n"
          ]
        }
      ],
      "source": [
        "fruits = [\"apple\", \"banana\", \"orange\"]\n",
        "print(fruits)\n",
        "print(fruits[0])\n",
        "print(fruits[1])\n",
        "print(fruits[2])"
      ]
    }
  ]
}